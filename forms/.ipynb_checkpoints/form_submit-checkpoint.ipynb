{
 "cells": [
  {
   "cell_type": "code",
   "execution_count": 32,
   "id": "b984edc1",
   "metadata": {},
   "outputs": [],
   "source": [
    "# Import necessary modules\n",
    "from flask import Flask, request, jsonify\n",
    "from flask_cors import CORS\n",
    "import smtplib\n",
    "from email.mime.text import MIMEText\n",
    "from email.mime.multipart import MIMEMultipart"
   ]
  },
  {
   "cell_type": "code",
   "execution_count": 33,
   "id": "d08a966e",
   "metadata": {},
   "outputs": [],
   "source": [
    "# Initialize Flask App\n",
    "app = Flask(__name__)\n",
    "CORS(app)\n",
    "\n",
    "@app.route('/form_submit', methods=['POST'])\n",
    "def submit_form():\n",
    "    # Retrieve form data\n",
    "    name = request.form.get('name')\n",
    "    email = request.form.get('email')\n",
    "    subj = request.form.get('subject')\n",
    "    message = request.form.get('message')\n",
    "    \n",
    "    msg = MIMEMultipart()\n",
    "    msg['Subject'] = 'Contact Form Successfully Submitted !!'\n",
    "    msg['From'] = 'rohitgeorge2000@gmail.com'\n",
    "    msg['To'] = email\n",
    "\n",
    "    body = f\"\"\"\n",
    "    Hello,\n",
    "\n",
    "    You have successfully send a message !!\n",
    "\n",
    "    Name: {name}\n",
    "    Email: {email}\n",
    "    Subject: {subj}\n",
    "    Message: {message}\n",
    "\n",
    "    Best regards,\n",
    "    Rohit George\n",
    "    \"\"\"\n",
    "    \n",
    "    msg.attach(MIMEText(body, 'plain'))\n",
    "    smtp_host = 'smtp.gmail.com'\n",
    "    smtp_port = 587\n",
    "    \n",
    "    with smtplib.SMTP(smtp_host, smtp_port) as server:\n",
    "        server.starttls()\n",
    "        server.login('rohitgeorge2000@gmail.com', 'hydnjgcfkyvitatr')\n",
    "        server.send_message(msg)\n",
    "\n",
    "    return jsonify({'status': 'sent'})"
   ]
  },
  {
   "cell_type": "code",
   "execution_count": 34,
   "id": "56d22239",
   "metadata": {},
   "outputs": [
    {
     "name": "stdout",
     "output_type": "stream",
     "text": [
      " * Serving Flask app \"__main__\" (lazy loading)\n",
      " * Environment: production\n",
      "\u001b[31m   WARNING: This is a development server. Do not use it in a production deployment.\u001b[0m\n",
      "\u001b[2m   Use a production WSGI server instead.\u001b[0m\n",
      " * Debug mode: off\n"
     ]
    },
    {
     "name": "stderr",
     "output_type": "stream",
     "text": [
      " * Running on http://127.0.0.1:5000/ (Press CTRL+C to quit)\n",
      "127.0.0.1 - - [16/May/2023 14:44:17] \"OPTIONS /form_submit HTTP/1.1\" 200 -\n",
      "[2023-05-16 14:44:20,808] ERROR in app: Exception on /form_submit [POST]\n",
      "Traceback (most recent call last):\n",
      "  File \"C:\\Users\\rohit\\anaconda3\\lib\\site-packages\\flask\\app.py\", line 2447, in wsgi_app\n",
      "    response = self.full_dispatch_request()\n",
      "  File \"C:\\Users\\rohit\\anaconda3\\lib\\site-packages\\flask\\app.py\", line 1953, in full_dispatch_request\n",
      "    return self.finalize_request(rv)\n",
      "  File \"C:\\Users\\rohit\\anaconda3\\lib\\site-packages\\flask\\app.py\", line 1968, in finalize_request\n",
      "    response = self.make_response(rv)\n",
      "  File \"C:\\Users\\rohit\\anaconda3\\lib\\site-packages\\flask\\app.py\", line 2097, in make_response\n",
      "    raise TypeError(\n",
      "TypeError: The view function did not return a valid response. The function either returned None or ended without a return statement.\n",
      "127.0.0.1 - - [16/May/2023 14:44:20] \"POST /form_submit HTTP/1.1\" 500 -\n",
      "[2023-05-16 14:44:20,936] ERROR in app: Exception on /form_submit [POST]\n",
      "Traceback (most recent call last):\n",
      "  File \"C:\\Users\\rohit\\anaconda3\\lib\\site-packages\\flask\\app.py\", line 2447, in wsgi_app\n",
      "    response = self.full_dispatch_request()\n",
      "  File \"C:\\Users\\rohit\\anaconda3\\lib\\site-packages\\flask\\app.py\", line 1953, in full_dispatch_request\n",
      "    return self.finalize_request(rv)\n",
      "  File \"C:\\Users\\rohit\\anaconda3\\lib\\site-packages\\flask\\app.py\", line 1968, in finalize_request\n",
      "    response = self.make_response(rv)\n",
      "  File \"C:\\Users\\rohit\\anaconda3\\lib\\site-packages\\flask\\app.py\", line 2097, in make_response\n",
      "    raise TypeError(\n",
      "TypeError: The view function did not return a valid response. The function either returned None or ended without a return statement.\n",
      "127.0.0.1 - - [16/May/2023 14:44:20] \"POST /form_submit HTTP/1.1\" 500 -\n"
     ]
    }
   ],
   "source": [
    "if __name__ == '__main__':\n",
    "    app.run()"
   ]
  },
  {
   "cell_type": "code",
   "execution_count": null,
   "id": "0f4324bf",
   "metadata": {},
   "outputs": [],
   "source": []
  },
  {
   "cell_type": "code",
   "execution_count": null,
   "id": "8a1a5e98",
   "metadata": {},
   "outputs": [],
   "source": []
  },
  {
   "cell_type": "code",
   "execution_count": null,
   "id": "7b5b26c9",
   "metadata": {},
   "outputs": [],
   "source": []
  },
  {
   "cell_type": "code",
   "execution_count": null,
   "id": "4ef725ef",
   "metadata": {},
   "outputs": [],
   "source": []
  },
  {
   "cell_type": "code",
   "execution_count": null,
   "id": "feea63c6",
   "metadata": {},
   "outputs": [],
   "source": []
  },
  {
   "cell_type": "code",
   "execution_count": null,
   "id": "3010c6bf",
   "metadata": {},
   "outputs": [],
   "source": []
  },
  {
   "cell_type": "code",
   "execution_count": null,
   "id": "e4becee8",
   "metadata": {},
   "outputs": [],
   "source": []
  },
  {
   "cell_type": "code",
   "execution_count": null,
   "id": "bb8d500a",
   "metadata": {},
   "outputs": [],
   "source": []
  },
  {
   "cell_type": "code",
   "execution_count": null,
   "id": "b8d5bf09",
   "metadata": {},
   "outputs": [],
   "source": []
  },
  {
   "cell_type": "code",
   "execution_count": null,
   "id": "ed6b798e",
   "metadata": {},
   "outputs": [],
   "source": []
  },
  {
   "cell_type": "code",
   "execution_count": null,
   "id": "c8d61bdc",
   "metadata": {},
   "outputs": [],
   "source": []
  }
 ],
 "metadata": {
  "kernelspec": {
   "display_name": "Python 3 (ipykernel)",
   "language": "python",
   "name": "python3"
  },
  "language_info": {
   "codemirror_mode": {
    "name": "ipython",
    "version": 3
   },
   "file_extension": ".py",
   "mimetype": "text/x-python",
   "name": "python",
   "nbconvert_exporter": "python",
   "pygments_lexer": "ipython3",
   "version": "3.9.12"
  }
 },
 "nbformat": 4,
 "nbformat_minor": 5
}
