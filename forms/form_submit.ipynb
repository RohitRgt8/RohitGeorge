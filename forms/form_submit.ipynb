{
 "cells": [
  {
   "cell_type": "code",
   "execution_count": 35,
   "id": "5c2eb4bc",
   "metadata": {},
   "outputs": [],
   "source": [
    "# Import necessary modules\n",
    "from flask import Flask, request, jsonify\n",
    "from flask_cors import CORS\n",
    "import smtplib\n",
    "from email.mime.text import MIMEText\n",
    "from email.mime.multipart import MIMEMultipart"
   ]
  },
  {
   "cell_type": "code",
   "execution_count": 36,
   "id": "ced2975e",
   "metadata": {},
   "outputs": [],
   "source": [
    "# Initialize Flask App\n",
    "app = Flask(__name__)\n",
    "CORS(app)\n",
    "\n",
    "@app.route('/form_submit', methods=['POST'])\n",
    "def submit_form():\n",
    "    # Retrieve form data\n",
    "    name = request.form.get('name')\n",
    "    email = request.form.get('email')\n",
    "    subj = request.form.get('subject')\n",
    "    message = request.form.get('message')\n",
    "    \n",
    "    msg = MIMEMultipart()\n",
    "    msg['Subject'] = 'Contact Form Successfully Submitted !!'\n",
    "    msg['From'] = 'rohitgeorge2000@gmail.com'\n",
    "    msg['To'] = email\n",
    "\n",
    "    body = f\"\"\"\n",
    "    Hello,\n",
    "\n",
    "    You have successfully send a message !!\n",
    "\n",
    "    Name: {name}\n",
    "    Email: {email}\n",
    "    Subject: {subj}\n",
    "    Message: {message}\n",
    "\n",
    "    Best regards,\n",
    "    Rohit George\n",
    "    \"\"\"\n",
    "    \n",
    "    msg.attach(MIMEText(body, 'plain'))\n",
    "    smtp_host = 'smtp.gmail.com'\n",
    "    smtp_port = 587\n",
    "    \n",
    "    with smtplib.SMTP(smtp_host, smtp_port) as server:\n",
    "        server.starttls()\n",
    "        server.login('rohitgeorge2000@gmail.com', 'hydnjgcfkyvitatr')\n",
    "        server.send_message(msg)\n",
    "\n",
    "    return jsonify({'status': 'sent'})"
   ]
  },
  {
   "cell_type": "code",
   "execution_count": null,
   "id": "164b9af4",
   "metadata": {},
   "outputs": [
    {
     "name": "stdout",
     "output_type": "stream",
     "text": [
      " * Serving Flask app \"__main__\" (lazy loading)\n",
      " * Environment: production\n",
      "\u001b[31m   WARNING: This is a development server. Do not use it in a production deployment.\u001b[0m\n",
      "\u001b[2m   Use a production WSGI server instead.\u001b[0m\n",
      " * Debug mode: off\n"
     ]
    },
    {
     "name": "stderr",
     "output_type": "stream",
     "text": [
      " * Running on http://127.0.0.1:5000/ (Press CTRL+C to quit)\n",
      "127.0.0.1 - - [16/May/2023 22:46:34] \"OPTIONS /form_submit HTTP/1.1\" 200 -\n",
      "127.0.0.1 - - [16/May/2023 22:46:38] \"POST /form_submit HTTP/1.1\" 200 -\n",
      "127.0.0.1 - - [16/May/2023 22:46:38] \"POST /form_submit HTTP/1.1\" 200 -\n"
     ]
    }
   ],
   "source": [
    "if __name__ == '__main__':\n",
    "    app.run()"
   ]
  },
  {
   "cell_type": "code",
   "execution_count": null,
   "id": "3e60da8b",
   "metadata": {},
   "outputs": [],
   "source": []
  },
  {
   "cell_type": "code",
   "execution_count": null,
   "id": "1d2e11f7",
   "metadata": {},
   "outputs": [],
   "source": []
  },
  {
   "cell_type": "code",
   "execution_count": null,
   "id": "d48e2918",
   "metadata": {},
   "outputs": [],
   "source": []
  },
  {
   "cell_type": "code",
   "execution_count": null,
   "id": "563243c9",
   "metadata": {},
   "outputs": [],
   "source": []
  },
  {
   "cell_type": "code",
   "execution_count": null,
   "id": "209f3874",
   "metadata": {},
   "outputs": [],
   "source": []
  },
  {
   "cell_type": "code",
   "execution_count": null,
   "id": "0e9b57ee",
   "metadata": {},
   "outputs": [],
   "source": []
  },
  {
   "cell_type": "code",
   "execution_count": null,
   "id": "d2b2cfba",
   "metadata": {},
   "outputs": [],
   "source": []
  },
  {
   "cell_type": "code",
   "execution_count": null,
   "id": "7b3fc27b",
   "metadata": {},
   "outputs": [],
   "source": []
  },
  {
   "cell_type": "code",
   "execution_count": null,
   "id": "e5c09060",
   "metadata": {},
   "outputs": [],
   "source": []
  },
  {
   "cell_type": "code",
   "execution_count": null,
   "id": "4c2fa563",
   "metadata": {},
   "outputs": [],
   "source": []
  },
  {
   "cell_type": "code",
   "execution_count": null,
   "id": "0b2e14f7",
   "metadata": {},
   "outputs": [],
   "source": []
  },
  {
   "cell_type": "code",
   "execution_count": null,
   "id": "1162ae5d",
   "metadata": {},
   "outputs": [],
   "source": []
  }
 ],
 "metadata": {
  "kernelspec": {
   "display_name": "Python 3 (ipykernel)",
   "language": "python",
   "name": "python3"
  },
  "language_info": {
   "codemirror_mode": {
    "name": "ipython",
    "version": 3
   },
   "file_extension": ".py",
   "mimetype": "text/x-python",
   "name": "python",
   "nbconvert_exporter": "python",
   "pygments_lexer": "ipython3",
   "version": "3.9.12"
  }
 },
 "nbformat": 4,
 "nbformat_minor": 5
}
